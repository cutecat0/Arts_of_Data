{
 "cells": [
  {
   "cell_type": "markdown",
   "source": [
    "Statically-typed language requires each variable to be explicitly declared(like C or Java)\n",
    "\n",
    "Dynamically-typed language skips the above specification(like Python)\n",
    "\n",
    "\n",
    "\n",
    "While in Python the equivalent operation could be written this way:\n",
    "\n",
    "\n",
    "/* C code */\n",
    "int result = 0\n",
    "for(int i=0; i<100; i++){\n",
    "    result += i;\n",
    "}"
   ],
   "metadata": {
    "collapsed": false,
    "pycharm": {
     "name": "#%% md\n"
    }
   }
  },
  {
   "cell_type": "code",
   "execution_count": 1,
   "outputs": [],
   "source": [
    "# Python code\n",
    "result = 0\n",
    "for i in range(100):\n",
    "    result += i\n",
    "\n"
   ],
   "metadata": {
    "collapsed": false,
    "pycharm": {
     "name": "#%%\n"
    }
   }
  }
 ],
 "metadata": {
  "kernelspec": {
   "display_name": "Python 3",
   "language": "python",
   "name": "python3"
  },
  "language_info": {
   "codemirror_mode": {
    "name": "ipython",
    "version": 2
   },
   "file_extension": ".py",
   "mimetype": "text/x-python",
   "name": "python",
   "nbconvert_exporter": "python",
   "pygments_lexer": "ipython2",
   "version": "2.7.6"
  }
 },
 "nbformat": 4,
 "nbformat_minor": 0
}