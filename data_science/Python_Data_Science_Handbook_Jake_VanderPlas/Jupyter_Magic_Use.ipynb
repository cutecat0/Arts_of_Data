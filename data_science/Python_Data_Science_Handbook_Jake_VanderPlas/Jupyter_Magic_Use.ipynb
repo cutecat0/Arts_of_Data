{
 "cells": [
  {
   "cell_type": "code",
   "execution_count": 1,
   "metadata": {},
   "outputs": [
    {
     "name": "stdout",
     "output_type": "stream",
     "text": [
      "Introduction_2_Numpy.ipynb\r\n",
      "Understanding_Data_Types_in_Python.ipynb\r\n",
      "\u001B[34m__pycache__\u001B[m\u001B[m\r\n",
      "mprun_demo.py\r\n",
      "myscript.py\r\n",
      "practise.ipynb\r\n",
      "readme.md\r\n"
     ]
    }
   ],
   "source": [
    "import matplotlib\n",
    "import matplotlib.pyplot as plt\n",
    "%matplotlib inline\n",
    "%config InlineBackend.figure_format = 'svg'\n"
   ]
  },
  {
   "cell_type": "code",
   "execution_count": 3,
   "metadata": {
    "pycharm": {
     "name": "#%%\n"
    }
   },
   "outputs": [
    {
     "name": "stdout",
     "output_type": "stream",
     "text": [
      "Introduction_2_Numpy.ipynb\r\n",
      "Understanding_Data_Types_in_Python.ipynb\r\n",
      "\u001B[34m__pycache__\u001B[m\u001B[m\r\n",
      "mprun_demo.py\r\n",
      "myscript.py\r\n",
      "practise.ipynb\r\n",
      "readme.md\r\n"
     ]
    }
   ],
   "source": [
    "!ls"
   ]
  },
  {
   "cell_type": "markdown",
   "metadata": {
    "pycharm": {
     "name": "#%% md\n"
    }
   },
   "source": [
    "pip3 install jupyterthemes\n"
   ]
  },
  {
   "cell_type": "markdown",
   "metadata": {
    "pycharm": {
     "name": "#%% md\n"
    }
   },
   "source": [
    " xxx@xxxdeMacBook-Pro  ~/github_projects  jt -l\n",
    " Available Themes:\n",
    "   chesterish\n",
    "   grade3\n",
    "   gruvboxd\n",
    "   gruvboxl\n",
    "   monokai\n",
    "   oceans16\n",
    "   onedork\n",
    "   solarizedd\n",
    "   solarizedl\n",
    "\n",
    "\n",
    "gruvboxd\n",
    "monokai\n",
    "onedork\n",
    "\n",
    "solarizedd   # this one I like this one!!!"
   ]
  },
  {
   "cell_type": "markdown",
   "metadata": {
    "pycharm": {
     "name": "#%% md\n"
    }
   },
   "source": [
    "jt -t solarizedd\n",
    "\n",
    "jupyter notebook"
   ]
  },
  {
   "cell_type": "code",
   "execution_count": 7,
   "metadata": {
    "pycharm": {
     "name": "#%%\n"
    }
   },
   "outputs": [
    {
     "ename": "SyntaxError",
     "evalue": "invalid syntax (<ipython-input-7-5ea0e9cdae06>, line 7)",
     "output_type": "error",
     "traceback": [
      "\u001B[0;36m  File \u001B[0;32m\"<ipython-input-7-5ea0e9cdae06>\"\u001B[0;36m, line \u001B[0;32m7\u001B[0m\n\u001B[0;31m    pip install jupyter_contrib_nbextensions && jupyter contrib nbextension install\u001B[0m\n\u001B[0m              ^\u001B[0m\n\u001B[0;31mSyntaxError\u001B[0m\u001B[0;31m:\u001B[0m invalid syntax\n"
     ]
    }
   ],
   "source": [
    "# Hinterland tools\n",
    "import pandas as pd\n",
    "\n",
    "# Snippets tools"
   ]
  },
  {
   "cell_type": "markdown",
   "source": [
    "pip install jupyter_contrib_nbextensions && jupyter contrib nbextension install\n",
    "incase you get permission errors on MacOS,\n",
    "pip install jupyter_contrib_nbextensions && jupyter contrib nbextension install --user\n",
    "\n",
    "作者：量子位\n",
    "链接：https://www.zhihu.com/question/59392251/answer/560977151\n",
    "来源：知乎\n",
    "著作权归作者所有。商业转载请联系作者获得授权，非商业转载请注明出处。\n",
    "\n",
    "for more practise read: https://www.zhihu.com/question/59392251\n",
    "\n"
   ],
   "metadata": {
    "collapsed": false,
    "pycharm": {
     "name": "#%% md\n"
    }
   }
  }
 ],
 "metadata": {
  "kernelspec": {
   "display_name": "Python 3",
   "language": "python",
   "name": "python3"
  },
  "language_info": {
   "codemirror_mode": {
    "name": "ipython",
    "version": 3
   },
   "file_extension": ".py",
   "mimetype": "text/x-python",
   "name": "python",
   "nbconvert_exporter": "python",
   "pygments_lexer": "ipython3",
   "version": "3.7.4"
  }
 },
 "nbformat": 4,
 "nbformat_minor": 1
}