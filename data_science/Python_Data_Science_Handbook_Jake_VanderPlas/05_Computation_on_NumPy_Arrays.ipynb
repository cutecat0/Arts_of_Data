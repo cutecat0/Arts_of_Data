{
 "cells": [
  {
   "cell_type": "markdown",
   "metadata": {
    "colab_type": "text",
    "id": "view-in-github"
   },
   "source": [
    "<a href=\"https://colab.research.google.com/github/cutecat0/ArtsofData/blob/master/data_science/Python_Data_Science_Handbook_Jake_VanderPlas/06_Computation_on_NumPy_Arrays.ipynb\" target=\"_parent\"><img src=\"https://colab.research.google.com/assets/colab-badge.svg\" alt=\"Open In Colab\"/></a>\n",
    "\n",
    "# Computation on NumPy Arrays: Universal Functions\n",
    "\n",
    "! Why NumPy is so important in the Python Data Science World!!\n",
    "\n",
    "Namely, it provides an easy and flexible interface to optimized computation with arrays of data.\n",
    "\n",
    "Computation on NumPy arrays can be very fast, or it can be very slow.\n",
    "\n",
    "The key to making it fast is to use\n",
    "`vectorized` operations, generally implemented through NumPy's `universal functions` (ufuncs)."
   ]
  },
  {
   "cell_type": "markdown",
   "metadata": {
    "id": "0MiGyb_0Qz7x",
    "pycharm": {
     "name": "#%% md\n"
    }
   },
   "source": [
    "# The Slowness of Loops\n",
    "\n",
    "Python's default implementation (known as CPython) dose some operations very slowly.\n",
    "\n",
    "This is part due to the `dynamic`, `interpreted` nature of the language:\n",
    "the fact that types are `flexible`, so that sequeences of operations `cannot be compiled down` to `efficient machine code` as in language `like C` and Fortran.\n",
    "\n",
    "Various attempts to to address this weakness:\n",
    "1. PyPy. project: a just-in-time compiled implementation of Python; http://pypy.org/\n",
    "2. Cython project, which converts Python code to compilable C code; http://cython.org/\n",
    "3. Numba project: which converts snippets of Python code to fast LLVM bytecode. http://numba.pydata.org/\n",
    "\n",
    "\n"
   ]
  }
 ],
 "metadata": {
  "colab": {
   "authorship_tag": "ABX9TyOnm5S0kjOomyiXoQWi9zBi",
   "include_colab_link": true,
   "provenance": []
  },
  "kernelspec": {
   "display_name": "Python 3",
   "language": "python",
   "name": "python3"
  },
  "language_info": {
   "codemirror_mode": {
    "name": "ipython",
    "version": 3
   },
   "file_extension": ".py",
   "mimetype": "text/x-python",
   "name": "python",
   "nbconvert_exporter": "python",
   "pygments_lexer": "ipython3",
   "version": "3.7.4"
  }
 },
 "nbformat": 4,
 "nbformat_minor": 1
}